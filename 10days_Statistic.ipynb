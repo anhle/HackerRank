{
  "nbformat": 4,
  "nbformat_minor": 0,
  "metadata": {
    "colab": {
      "name": "10days_Statistic.ipynb",
      "provenance": [],
      "collapsed_sections": [],
      "toc_visible": true,
      "authorship_tag": "ABX9TyNUnuBXovFE+zOAFfgkIN3f",
      "include_colab_link": true
    },
    "kernelspec": {
      "name": "python3",
      "display_name": "Python 3"
    }
  },
  "cells": [
    {
      "cell_type": "markdown",
      "metadata": {
        "id": "view-in-github",
        "colab_type": "text"
      },
      "source": [
        "<a href=\"https://colab.research.google.com/github/anhle/HackerRank/blob/master/10days_Statistic.ipynb\" target=\"_parent\"><img src=\"https://colab.research.google.com/assets/colab-badge.svg\" alt=\"Open In Colab\"/></a>"
      ]
    },
    {
      "cell_type": "markdown",
      "metadata": {
        "id": "CAz_Qo5n6vic",
        "colab_type": "text"
      },
      "source": [
        "[**HackerRank  10 Days of Statistics**](https://www.hackerrank.com/domains/tutorials/10-days-of-statistics) \n",
        "\n",
        "Table of content\n",
        "\n",
        "1. [Day 0: Mean, median and mode](#1)\n",
        "2. [Day 1: Quartiles, Interquantile range](#2)\n",
        "3. [Day 4: Binomial Distribution](#3)"
      ]
    },
    {
      "cell_type": "markdown",
      "metadata": {
        "id": "vE21guc67FoM",
        "colab_type": "text"
      },
      "source": [
        "# [Day 0: Mean, Median, and Mode](https://www.hackerrank.com/challenges/s10-basic-statistics/problem) <a name=\"1\"></a>"
      ]
    },
    {
      "cell_type": "code",
      "metadata": {
        "id": "ekiSMOvP74Yf",
        "colab_type": "code",
        "colab": {}
      },
      "source": [
        "# Input Format\n",
        "#The first line contains an integer, , denoting the number of elements in the array.\n",
        "#The second line contains  space-separated integers describing the array's elements.\n",
        "\n",
        "# Constraints\n",
        "# N >= 10 and N <= 2500\n",
        "# x_i >0 and x_i <= 10^5\n",
        "\n",
        "# Output Format\n",
        "# Print  lines of output in the following order:\n",
        "# Print the mean on a new line, to a scale of  decimal place (i.e., , ).\n",
        "# Print the median on a new line, to a scale of  decimal place (i.e., , ).\n",
        "# Print the mode on a new line; if more than one such value exists, print the numerically smallest one.\n",
        "import numpy as np\n",
        "from scipy import stats\n",
        "\n",
        "N=10\n",
        "X = \"64630 11735 14216 99233 14470 4978 73429 38120 51135 67060\"\n",
        "numbers = list(map(int, X.split()))\n",
        "print(np.mean(numbers))\n",
        "print(np.median(numbers))\n",
        "print(int(stats.mode(numbers)[0]))"
      ],
      "execution_count": null,
      "outputs": []
    },
    {
      "cell_type": "markdown",
      "metadata": {
        "id": "CDCDm1BJ9nsu",
        "colab_type": "text"
      },
      "source": [
        "[Day 0: Weighted Mean](https://www.hackerrank.com/challenges/s10-weighted-mean/problem)"
      ]
    },
    {
      "cell_type": "code",
      "metadata": {
        "id": "Kj90mKxE96U6",
        "colab_type": "code",
        "colab": {}
      },
      "source": [
        "N=5\n",
        "X=\"10 40 30 50 20\"\n",
        "W=\"1 2 3 4 5\"\n",
        "X = list(map(int, X.split()))\n",
        "W = list(map(int,W.split()))\n",
        "numerator = sum(X[i]*W[i] for i in range(N))\n",
        "denominator = sum(W)\n",
        "print(round(numerator/denominator,1))"
      ],
      "execution_count": null,
      "outputs": []
    },
    {
      "cell_type": "markdown",
      "metadata": {
        "id": "PSF_NJtN-mlM",
        "colab_type": "text"
      },
      "source": [
        "[Day 1: Quartiles](https://www.hackerrank.com/challenges/s10-quartiles/problem) <a name=\"2\"></a>"
      ]
    },
    {
      "cell_type": "code",
      "metadata": {
        "id": "Trq2OdpzAjkS",
        "colab_type": "code",
        "colab": {}
      },
      "source": [
        "# Task\n",
        "# The interquartile range of an array is the difference between its first Q1 and third Q2 quartiles (i.e., ).\n",
        "#\n",
        "# Given an array, X, of n integers and an array F representing the respective frequencies of 's elements,\n",
        "# construct a data set S where each x_i occurs at frequency f_i.\n",
        "# Then calculate and print S's interquartile range,\n",
        "# rounded to a scale of  decimal place (i.e.,  12.3 format).\n",
        "#\n",
        "# Tip: Be careful to not use integer division when averaging the middle two elements for a data set\n",
        "# with an even number of elements, and be sure to not include the median in your upper and lower data sets.\n",
        "\n",
        "# Input Format\n",
        "#\n",
        "# The first line contains an integer, n, denoting the number of elements in arrays X and F.\n",
        "# The second line contains n space-separated integers describing the respective elements of array X.\n",
        "# The third line contains n space-separated integers describing the respective elements of array F.\n",
        "\n",
        "n=9\n",
        "X=\"3 7 8 5 12 14 21 13 18\"\n",
        "X = sorted(map(int,X.split()))\n",
        "print(int(median(X[:n//2])))\n",
        "print(int(median(X)))\n",
        "print(int(median(X[-n//2:])))"
      ],
      "execution_count": null,
      "outputs": []
    },
    {
      "cell_type": "markdown",
      "metadata": {
        "id": "izghmdtCEWZm",
        "colab_type": "text"
      },
      "source": [
        "[Day 1: Interquartile Range](https://www.hackerrank.com/challenges/s10-interquartile-range/problem)\n",
        "\n",
        "**Task**\n",
        "\n",
        "The interquartile range of an array is the difference between its first () and third () quartiles (i.e., ).\n",
        "\n",
        "Given an array, , of  integers and an array, , representing the respective frequencies of 's elements, construct a data set, , where each  occurs at frequency . Then calculate and print 's interquartile range, rounded to a scale of  decimal place (i.e.,  format).\n",
        "\n",
        "Tip: Be careful to not use integer division when averaging the middle two elements for a data set with an even number of elements, and be sure to not include the median in your upper and lower data sets.\n"
      ]
    },
    {
      "cell_type": "code",
      "metadata": {
        "id": "n0neIqgaEcSs",
        "colab_type": "code",
        "colab": {}
      },
      "source": [
        "import statistics as st\n",
        "n= 6\n",
        "X=\"6 12 8 10 20 16\"\n",
        "F=\"5 4 3 2 1 5\"\n",
        "X = list(map(int,X.split()))\n",
        "F = list(map(int,F.split()))\n",
        "S = [X[i] for i in range(n) for j in range(F[i]) ]\n",
        "S = sorted(S)\n",
        "mid = len(S)//2\n",
        "Q1 = st.median(S[0:mid])\n",
        "if len(S)%2 !=0:\n",
        "    Q3 = st.median(S[1+ mid:])\n",
        "else:\n",
        "    Q3 = st.median(S[mid:])\n",
        "\n",
        "print(round(Q3-Q1,1))"
      ],
      "execution_count": null,
      "outputs": []
    },
    {
      "cell_type": "markdown",
      "metadata": {
        "id": "jzpqUwKKaQt4",
        "colab_type": "text"
      },
      "source": [
        "[Day 1: Standard Deviation](https://www.hackerrank.com/challenges/s10-standard-deviation/problem)\n"
      ]
    },
    {
      "cell_type": "code",
      "metadata": {
        "id": "tWXjnWSoc3WS",
        "colab_type": "code",
        "colab": {}
      },
      "source": [
        "import statistics as st\n",
        "import math\n",
        "n = 5\n",
        "X=\"10 40 30 50 20\"\n",
        "X = list(map(int,X.split()))\n",
        "mean = st.mean(X)\n",
        "square_dist = [(X[i]-mean)*(X[i]-mean) for i in range(n)]\n",
        "std = math.sqrt(sum(square_dist)/n)\n",
        "print(round(std,1))"
      ],
      "execution_count": null,
      "outputs": []
    },
    {
      "cell_type": "markdown",
      "metadata": {
        "id": "H82-r6kvogij",
        "colab_type": "text"
      },
      "source": [
        "# [Day 4: Binomial Distribution](https://www.hackerrank.com/challenges/s10-binomial-distribution-1/problem) <a name=\"1\"></a>\n",
        "\n",
        "The binomial distribution is the probability distribution for the binomial random variable, given by the following probability mass function:\n",
        "\n",
        "![image.png](data:image/png;base64,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)\n",
        "\n",
        "\n",
        "Note: Recall that . For further review, see the Combinations and Permutations Tutorial.\n"
      ]
    },
    {
      "cell_type": "code",
      "metadata": {
        "id": "Zu1t13TZov0Z",
        "colab_type": "code",
        "colab": {
          "base_uri": "https://localhost:8080/",
          "height": 34
        },
        "outputId": "9d675e59-4635-4042-f59c-eabaa74ca16e"
      },
      "source": [
        "import math\n",
        "\n",
        "#ratio = float(input().split()[0])\n",
        "ratio = 1.09\n",
        "p = ratio / (1+ratio)\n",
        "\n",
        "b = [(math.factorial(6) / (math.factorial(n)*math.factorial(6-n)))*math.pow(p, n)*math.pow((1-p), (6-n))\n",
        "     for n in [3, 4, 5, 6]]\n",
        "\n",
        "print(round(sum(b), 3))"
      ],
      "execution_count": null,
      "outputs": [
        {
          "output_type": "stream",
          "text": [
            "0.696\n"
          ],
          "name": "stdout"
        }
      ]
    },
    {
      "cell_type": "code",
      "metadata": {
        "id": "90E5bELZkCnM",
        "colab_type": "code",
        "colab": {
          "base_uri": "https://localhost:8080/",
          "height": 34
        },
        "outputId": "58753b78-246c-4393-ac1c-cf0fd6cd2266"
      },
      "source": [
        "from scipy.stats import binom\n",
        "\n",
        "ratio = 1.09\n",
        "p = ratio / (1+ratio)\n",
        "b = [ binom.cdf(6,n,p) for n in [3, 4, 5, 6]]\n",
        "\n",
        "print(round(sum(b), 3))\n",
        "\n"
      ],
      "execution_count": null,
      "outputs": [
        {
          "output_type": "stream",
          "text": [
            "4.0\n"
          ],
          "name": "stdout"
        }
      ]
    },
    {
      "cell_type": "code",
      "metadata": {
        "id": "hGw8fir7pHbP",
        "colab_type": "code",
        "colab": {
          "base_uri": "https://localhost:8080/",
          "height": 52
        },
        "outputId": "fd09018f-660a-4788-d4a1-e6f1e52bad84"
      },
      "source": [
        "from math import factorial\n",
        "\n",
        "def comb(n, k):\n",
        "    return (factorial(n) / (factorial(k)*factorial(n-k)))\n",
        "\n",
        "def binom(n,r,p):\n",
        "    return comb(n,r) * p**r * (1-p)** (n-r)\n",
        "\n",
        "print(round (sum( [binom(10, i, .88) for i in range(8,11)]), 3))\n",
        "print(round (sum( [binom(10, i, .12) for i in range(2,11)]), 3))"
      ],
      "execution_count": null,
      "outputs": [
        {
          "output_type": "stream",
          "text": [
            "0.891\n",
            "0.342\n"
          ],
          "name": "stdout"
        }
      ]
    }
  ]
}